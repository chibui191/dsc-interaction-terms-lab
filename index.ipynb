{
 "cells": [
  {
   "cell_type": "markdown",
   "metadata": {},
   "source": [
    "# Interactions - Lab"
   ]
  },
  {
   "cell_type": "markdown",
   "metadata": {},
   "source": [
    "## Introduction"
   ]
  },
  {
   "cell_type": "markdown",
   "metadata": {},
   "source": [
    "In this lab, you'll explore interactions in the Ames Housing dataset."
   ]
  },
  {
   "cell_type": "markdown",
   "metadata": {},
   "source": [
    "## Objectives"
   ]
  },
  {
   "cell_type": "markdown",
   "metadata": {},
   "source": [
    "You will be able to:\n",
    "- Implement interaction terms in Python using the `sklearn` and `statsmodels` packages \n",
    "- Interpret interaction variables in the context of a real-world problem "
   ]
  },
  {
   "cell_type": "markdown",
   "metadata": {},
   "source": [
    "## Build a baseline model "
   ]
  },
  {
   "cell_type": "markdown",
   "metadata": {},
   "source": [
    "You'll use a couple of built-in functions, which we imported for you below: "
   ]
  },
  {
   "cell_type": "code",
   "execution_count": 1,
   "metadata": {},
   "outputs": [],
   "source": [
    "from sklearn.linear_model import LinearRegression\n",
    "from sklearn.model_selection import cross_val_score\n",
    "from sklearn.model_selection import KFold\n",
    "from sklearn.preprocessing import OneHotEncoder\n",
    "import pandas as pd\n",
    "import numpy as np\n",
    "import matplotlib.pyplot as plt\n",
    "import seaborn as sns"
   ]
  },
  {
   "cell_type": "code",
   "execution_count": 2,
   "metadata": {},
   "outputs": [],
   "source": [
    "import statsmodels.api as sm"
   ]
  },
  {
   "cell_type": "code",
   "execution_count": 3,
   "metadata": {},
   "outputs": [],
   "source": [
    "import warnings\n",
    "warnings.filterwarnings('ignore')"
   ]
  },
  {
   "cell_type": "markdown",
   "metadata": {},
   "source": [
    "If you still want to build a model in the end, you can do that, but this lab will just focus on finding meaningful insights in interactions and how they can improve $R^2$ values."
   ]
  },
  {
   "cell_type": "code",
   "execution_count": 4,
   "metadata": {},
   "outputs": [],
   "source": [
    "regression = LinearRegression()"
   ]
  },
  {
   "cell_type": "markdown",
   "metadata": {},
   "source": [
    "Create a baseline model which includes all the variables we selected from the Ames housing data set to predict the house prices. Then use 10-fold cross-validation and report the mean $R^2$ value as the baseline $R^2$."
   ]
  },
  {
   "cell_type": "code",
   "execution_count": 5,
   "metadata": {},
   "outputs": [],
   "source": [
    "ames = pd.read_csv('ames.csv')\n",
    "\n",
    "continuous = ['LotArea', '1stFlrSF', 'GrLivArea', 'SalePrice']\n",
    "categoricals = ['BldgType', 'KitchenQual', 'SaleType', 'MSZoning', 'Street', 'Neighborhood']"
   ]
  },
  {
   "cell_type": "code",
   "execution_count": 6,
   "metadata": {},
   "outputs": [],
   "source": [
    "# Create transformation functions for continuous predictors\n",
    "def log_transform(cols, dt):\n",
    "    dt_log = pd.DataFrame([])\n",
    "    for c in cols:\n",
    "        dt_log[f'log_{c}'] = np.log(dt[c])\n",
    "        \n",
    "    return dt_log\n",
    "\n",
    "def standardize(cols, dt):\n",
    "    dt_standard = pd.DataFrame([])\n",
    "    for c in cols:\n",
    "        dt_standard[f'standardized_{c}'] = (dt[c] - np.mean(dt[c])) / np.std(dt[c])\n",
    "    return dt_standard\n",
    "\n",
    "to_log = ['LotArea', 'GrLivArea', '1stFlrSF']\n",
    "# apply log_transform on the 3 selected features \n",
    "log_ames_cont = log_transform(to_log, ames[continuous])\n",
    "\n",
    "to_standardize = ['log_LotArea', 'log_GrLivArea', 'log_1stFlrSF']\n",
    "# Apply standardize on log_ames_cont\n",
    "final_cont = standardize(to_standardize, log_ames_cont)"
   ]
  },
  {
   "cell_type": "code",
   "execution_count": 7,
   "metadata": {
    "scrolled": true
   },
   "outputs": [],
   "source": [
    "# Apply OneHotEncoder() on categorical predictors\n",
    "ohe = OneHotEncoder(drop='first')\n",
    "ohe.fit(ames[categoricals])\n",
    "ohe_trans = ohe.transform(ames[categoricals])\n",
    "\n",
    "final_cat = pd.DataFrame(ohe_trans.todense(), columns=ohe.get_feature_names())"
   ]
  },
  {
   "cell_type": "code",
   "execution_count": 8,
   "metadata": {},
   "outputs": [],
   "source": [
    "X = pd.concat([final_cont, final_cat], axis=1)\n",
    "y = ames.SalePrice"
   ]
  },
  {
   "cell_type": "code",
   "execution_count": 9,
   "metadata": {},
   "outputs": [
    {
     "data": {
      "text/plain": [
       "0.7779580670320424"
      ]
     },
     "execution_count": 9,
     "metadata": {},
     "output_type": "execute_result"
    }
   ],
   "source": [
    "crossvalidation = KFold(n_splits=10, shuffle=True, random_state=19)\n",
    "baseline = np.mean(cross_val_score(regression, X, y, scoring='r2', cv=crossvalidation))\n",
    "\n",
    "baseline"
   ]
  },
  {
   "cell_type": "markdown",
   "metadata": {},
   "source": [
    "## See how interactions improve your baseline"
   ]
  },
  {
   "cell_type": "markdown",
   "metadata": {},
   "source": [
    "Next, create all possible combinations of interactions, loop over them and add them to the baseline model one by one to see how they affect the $R^2$. We'll look at the 3 interactions which have the biggest effect on our $R^2$, so print out the top 3 combinations.\n",
    "\n",
    "You will create a `for` loop to loop through all the combinations of 2 predictors. You can use `combinations` from itertools to create a list of all the pairwise combinations. To find more info on how this is done, have a look [here](https://docs.python.org/2/library/itertools.html).\n",
    "\n",
    "Since there are so many different neighbourhoods we will exclude"
   ]
  },
  {
   "cell_type": "code",
   "execution_count": 10,
   "metadata": {
    "scrolled": false
   },
   "outputs": [],
   "source": [
    "from itertools import combinations\n",
    "\n",
    "pairs = list(combinations(X.columns, 2))\n",
    "\n",
    "r2_dct = {}\n",
    "X_interact = X.copy()\n",
    "for f1, f2 in pairs:\n",
    "    X_interact['interaction'] = X[f1] * X[f2]\n",
    "    score = np.mean(cross_val_score(regression, X_interact, y,\n",
    "                                    scoring='r2',\n",
    "                                    cv=crossvalidation))\n",
    "    # only record r2 scores > baseline\n",
    "    if score > baseline:\n",
    "        r2_dct[f'{f1}-{f2}'] = score"
   ]
  },
  {
   "cell_type": "code",
   "execution_count": 11,
   "metadata": {},
   "outputs": [
    {
     "data": {
      "text/plain": [
       "[('standardized_log_GrLivArea-x5_NoRidge', 0.7937242630421302),\n",
       " ('standardized_log_1stFlrSF-x5_NoRidge', 0.786722010719708),\n",
       " ('standardized_log_GrLivArea-x1_TA', 0.7866504289391143)]"
      ]
     },
     "execution_count": 11,
     "metadata": {},
     "output_type": "execute_result"
    }
   ],
   "source": [
    "# code to find top interactions by R^2 value here\n",
    "sorted_r2 = sorted(r2_dct.items(), key=lambda i: i[1], reverse=True)\n",
    "sorted_r2[:3]"
   ]
  },
  {
   "cell_type": "markdown",
   "metadata": {},
   "source": [
    "It looks like the top interactions involve the Neighborhood_Edwards feature so lets add the interaction between LotArea and Edwards to our model. \n",
    "\n",
    "We can interpret this feature as the relationship between LotArea and SalePrice when the house is in Edwards or not.\n",
    "\n",
    "--------\n",
    "[CB] I did not really get the same results as the solution; and it might be due to the following:\n",
    "- The solution did not drop the first column when creating dummies\n",
    "\n",
    "In accordance with my results, I would proceed to the next steps using the NoRidge neighborhood instead of Edwards.\n",
    "\n",
    "And I would then interpret the relationship between `standardized_log_GrLivArea` (instead of `LotArea`) and `SalePrice`."
   ]
  },
  {
   "cell_type": "markdown",
   "metadata": {},
   "source": [
    "## Visualize the Interaction\n",
    "\n",
    "Separate all houses that are located in Edwards and those that are not. Run a linear regression on each population against `SalePrice`. Visualize the regression line and data points with price on the y axis and LotArea on the x axis."
   ]
  },
  {
   "cell_type": "code",
   "execution_count": 12,
   "metadata": {},
   "outputs": [
    {
     "data": {
      "text/html": [
       "<div>\n",
       "<style scoped>\n",
       "    .dataframe tbody tr th:only-of-type {\n",
       "        vertical-align: middle;\n",
       "    }\n",
       "\n",
       "    .dataframe tbody tr th {\n",
       "        vertical-align: top;\n",
       "    }\n",
       "\n",
       "    .dataframe thead th {\n",
       "        text-align: right;\n",
       "    }\n",
       "</style>\n",
       "<table border=\"1\" class=\"dataframe\">\n",
       "  <thead>\n",
       "    <tr style=\"text-align: right;\">\n",
       "      <th></th>\n",
       "      <th>standardized_log_LotArea</th>\n",
       "      <th>standardized_log_GrLivArea</th>\n",
       "      <th>standardized_log_1stFlrSF</th>\n",
       "      <th>x0_2fmCon</th>\n",
       "      <th>x0_Duplex</th>\n",
       "      <th>x0_Twnhs</th>\n",
       "      <th>x0_TwnhsE</th>\n",
       "      <th>x1_Fa</th>\n",
       "      <th>x1_Gd</th>\n",
       "      <th>x1_TA</th>\n",
       "      <th>...</th>\n",
       "      <th>x5_NridgHt</th>\n",
       "      <th>x5_OldTown</th>\n",
       "      <th>x5_SWISU</th>\n",
       "      <th>x5_Sawyer</th>\n",
       "      <th>x5_SawyerW</th>\n",
       "      <th>x5_Somerst</th>\n",
       "      <th>x5_StoneBr</th>\n",
       "      <th>x5_Timber</th>\n",
       "      <th>x5_Veenker</th>\n",
       "      <th>SalePrice</th>\n",
       "    </tr>\n",
       "  </thead>\n",
       "  <tbody>\n",
       "    <tr>\n",
       "      <th>0</th>\n",
       "      <td>-0.133231</td>\n",
       "      <td>0.529260</td>\n",
       "      <td>-0.803570</td>\n",
       "      <td>0.0</td>\n",
       "      <td>0.0</td>\n",
       "      <td>0.0</td>\n",
       "      <td>0.0</td>\n",
       "      <td>0.0</td>\n",
       "      <td>1.0</td>\n",
       "      <td>0.0</td>\n",
       "      <td>...</td>\n",
       "      <td>0.0</td>\n",
       "      <td>0.0</td>\n",
       "      <td>0.0</td>\n",
       "      <td>0.0</td>\n",
       "      <td>0.0</td>\n",
       "      <td>0.0</td>\n",
       "      <td>0.0</td>\n",
       "      <td>0.0</td>\n",
       "      <td>0.0</td>\n",
       "      <td>208500</td>\n",
       "    </tr>\n",
       "    <tr>\n",
       "      <th>1</th>\n",
       "      <td>0.113442</td>\n",
       "      <td>-0.381846</td>\n",
       "      <td>0.418585</td>\n",
       "      <td>0.0</td>\n",
       "      <td>0.0</td>\n",
       "      <td>0.0</td>\n",
       "      <td>0.0</td>\n",
       "      <td>0.0</td>\n",
       "      <td>0.0</td>\n",
       "      <td>1.0</td>\n",
       "      <td>...</td>\n",
       "      <td>0.0</td>\n",
       "      <td>0.0</td>\n",
       "      <td>0.0</td>\n",
       "      <td>0.0</td>\n",
       "      <td>0.0</td>\n",
       "      <td>0.0</td>\n",
       "      <td>0.0</td>\n",
       "      <td>0.0</td>\n",
       "      <td>1.0</td>\n",
       "      <td>181500</td>\n",
       "    </tr>\n",
       "    <tr>\n",
       "      <th>2</th>\n",
       "      <td>0.420061</td>\n",
       "      <td>0.659675</td>\n",
       "      <td>-0.576560</td>\n",
       "      <td>0.0</td>\n",
       "      <td>0.0</td>\n",
       "      <td>0.0</td>\n",
       "      <td>0.0</td>\n",
       "      <td>0.0</td>\n",
       "      <td>1.0</td>\n",
       "      <td>0.0</td>\n",
       "      <td>...</td>\n",
       "      <td>0.0</td>\n",
       "      <td>0.0</td>\n",
       "      <td>0.0</td>\n",
       "      <td>0.0</td>\n",
       "      <td>0.0</td>\n",
       "      <td>0.0</td>\n",
       "      <td>0.0</td>\n",
       "      <td>0.0</td>\n",
       "      <td>0.0</td>\n",
       "      <td>223500</td>\n",
       "    </tr>\n",
       "    <tr>\n",
       "      <th>3</th>\n",
       "      <td>0.103347</td>\n",
       "      <td>0.541511</td>\n",
       "      <td>-0.439287</td>\n",
       "      <td>0.0</td>\n",
       "      <td>0.0</td>\n",
       "      <td>0.0</td>\n",
       "      <td>0.0</td>\n",
       "      <td>0.0</td>\n",
       "      <td>1.0</td>\n",
       "      <td>0.0</td>\n",
       "      <td>...</td>\n",
       "      <td>0.0</td>\n",
       "      <td>0.0</td>\n",
       "      <td>0.0</td>\n",
       "      <td>0.0</td>\n",
       "      <td>0.0</td>\n",
       "      <td>0.0</td>\n",
       "      <td>0.0</td>\n",
       "      <td>0.0</td>\n",
       "      <td>0.0</td>\n",
       "      <td>140000</td>\n",
       "    </tr>\n",
       "    <tr>\n",
       "      <th>4</th>\n",
       "      <td>0.878409</td>\n",
       "      <td>1.282191</td>\n",
       "      <td>0.112267</td>\n",
       "      <td>0.0</td>\n",
       "      <td>0.0</td>\n",
       "      <td>0.0</td>\n",
       "      <td>0.0</td>\n",
       "      <td>0.0</td>\n",
       "      <td>1.0</td>\n",
       "      <td>0.0</td>\n",
       "      <td>...</td>\n",
       "      <td>0.0</td>\n",
       "      <td>0.0</td>\n",
       "      <td>0.0</td>\n",
       "      <td>0.0</td>\n",
       "      <td>0.0</td>\n",
       "      <td>0.0</td>\n",
       "      <td>0.0</td>\n",
       "      <td>0.0</td>\n",
       "      <td>0.0</td>\n",
       "      <td>250000</td>\n",
       "    </tr>\n",
       "  </tbody>\n",
       "</table>\n",
       "<p>5 rows × 48 columns</p>\n",
       "</div>"
      ],
      "text/plain": [
       "   standardized_log_LotArea  standardized_log_GrLivArea  \\\n",
       "0                 -0.133231                    0.529260   \n",
       "1                  0.113442                   -0.381846   \n",
       "2                  0.420061                    0.659675   \n",
       "3                  0.103347                    0.541511   \n",
       "4                  0.878409                    1.282191   \n",
       "\n",
       "   standardized_log_1stFlrSF  x0_2fmCon  x0_Duplex  x0_Twnhs  x0_TwnhsE  \\\n",
       "0                  -0.803570        0.0        0.0       0.0        0.0   \n",
       "1                   0.418585        0.0        0.0       0.0        0.0   \n",
       "2                  -0.576560        0.0        0.0       0.0        0.0   \n",
       "3                  -0.439287        0.0        0.0       0.0        0.0   \n",
       "4                   0.112267        0.0        0.0       0.0        0.0   \n",
       "\n",
       "   x1_Fa  x1_Gd  x1_TA  ...  x5_NridgHt  x5_OldTown  x5_SWISU  x5_Sawyer  \\\n",
       "0    0.0    1.0    0.0  ...         0.0         0.0       0.0        0.0   \n",
       "1    0.0    0.0    1.0  ...         0.0         0.0       0.0        0.0   \n",
       "2    0.0    1.0    0.0  ...         0.0         0.0       0.0        0.0   \n",
       "3    0.0    1.0    0.0  ...         0.0         0.0       0.0        0.0   \n",
       "4    0.0    1.0    0.0  ...         0.0         0.0       0.0        0.0   \n",
       "\n",
       "   x5_SawyerW  x5_Somerst  x5_StoneBr  x5_Timber  x5_Veenker  SalePrice  \n",
       "0         0.0         0.0         0.0        0.0         0.0     208500  \n",
       "1         0.0         0.0         0.0        0.0         1.0     181500  \n",
       "2         0.0         0.0         0.0        0.0         0.0     223500  \n",
       "3         0.0         0.0         0.0        0.0         0.0     140000  \n",
       "4         0.0         0.0         0.0        0.0         0.0     250000  \n",
       "\n",
       "[5 rows x 48 columns]"
      ]
     },
     "execution_count": 12,
     "metadata": {},
     "output_type": "execute_result"
    }
   ],
   "source": [
    "preprocessed = pd.concat([X, y], axis=1)\n",
    "preprocessed.head()"
   ]
  },
  {
   "cell_type": "code",
   "execution_count": 13,
   "metadata": {},
   "outputs": [],
   "source": [
    "# Split preprocessed into 2 different datasets \n",
    "noridge = preprocessed[preprocessed.x5_NoRidge == 1]\n",
    "not_noridge = preprocessed[~(preprocessed.x5_NoRidge == 1)]\n",
    "\n",
    "# fit models & make predictions\n",
    "reg_noridge = LinearRegression()\n",
    "reg_not_noridge = LinearRegression()\n",
    "\n",
    "grlivarea_1 = noridge.standardized_log_GrLivArea.values.reshape(-1,1)\n",
    "grlivarea_2 = not_noridge.standardized_log_GrLivArea.values.reshape(-1,1)\n",
    "\n",
    "reg_noridge.fit(grlivarea_1, noridge.SalePrice)\n",
    "reg_not_noridge.fit(grlivarea_2, not_noridge.SalePrice)\n",
    "\n",
    "pred_1 = reg_noridge.predict(grlivarea_1)\n",
    "pred_2 = reg_not_noridge.predict(grlivarea_2)"
   ]
  },
  {
   "cell_type": "code",
   "execution_count": 14,
   "metadata": {},
   "outputs": [
    {
     "data": {
      "image/png": "[encoded data removed]",
      "text/plain": [
       "<Figure size 720x504 with 1 Axes>"
      ]
     },
     "metadata": {
      "needs_background": "light"
     },
     "output_type": "display_data"
    }
   ],
   "source": [
    "fig, ax = plt.subplots(figsize=(10,7))\n",
    "# Scatter plots for actual data\n",
    "sns.scatterplot(noridge.standardized_log_GrLivArea, noridge.SalePrice, \n",
    "                color='blue', alpha=0.3, label='In NoRidge', ax=ax)\n",
    "sns.scatterplot(not_noridge.standardized_log_GrLivArea, not_noridge.SalePrice, \n",
    "                color='orange', alpha=0.3, label='Outside of NoRidge', ax=ax)\n",
    "\n",
    "# Line plots for prediction\n",
    "sns.lineplot(noridge.standardized_log_GrLivArea, pred_1,\n",
    "             color='blue', ax=ax)\n",
    "sns.lineplot(not_noridge.standardized_log_GrLivArea, pred_2,\n",
    "             color='orange', ax=ax)\n",
    "\n",
    "fig.legend();"
   ]
  },
  {
   "cell_type": "markdown",
   "metadata": {},
   "source": [
    "## Build a final model with interactions"
   ]
  },
  {
   "cell_type": "markdown",
   "metadata": {},
   "source": [
    "Use 10-fold cross-validation to build a model using the above interaction. "
   ]
  },
  {
   "cell_type": "code",
   "execution_count": 15,
   "metadata": {},
   "outputs": [
    {
     "data": {
      "text/plain": [
       "0.7937242630421302"
      ]
     },
     "execution_count": 15,
     "metadata": {},
     "output_type": "execute_result"
    }
   ],
   "source": [
    "regression = LinearRegression()\n",
    "X_interact = X.copy()\n",
    "X_interact['standardized_log_GrLivArea - x5_NoRidge'] = X.standardized_log_GrLivArea * X.x5_NoRidge\n",
    "\n",
    "r2_interact = np.mean(cross_val_score(regression, X_interact, y,\n",
    "                                      scoring='r2', cv=crossvalidation))\n",
    "r2_interact"
   ]
  },
  {
   "cell_type": "markdown",
   "metadata": {},
   "source": [
    "Our $R^2$ has increased considerably! Let's have a look in `statsmodels` to see if this interactions are significant."
   ]
  },
  {
   "cell_type": "code",
   "execution_count": 16,
   "metadata": {
    "scrolled": false
   },
   "outputs": [
    {
     "data": {
      "text/html": [
       "<table class=\"simpletable\">\n",
       "<caption>OLS Regression Results</caption>\n",
       "<tr>\n",
       "  <th>Dep. Variable:</th>        <td>SalePrice</td>    <th>  R-squared:         </th> <td>   0.826</td> \n",
       "</tr>\n",
       "<tr>\n",
       "  <th>Model:</th>                   <td>OLS</td>       <th>  Adj. R-squared:    </th> <td>   0.820</td> \n",
       "</tr>\n",
       "<tr>\n",
       "  <th>Method:</th>             <td>Least Squares</td>  <th>  F-statistic:       </th> <td>   139.8</td> \n",
       "</tr>\n",
       "<tr>\n",
       "  <th>Date:</th>             <td>Sun, 14 Feb 2021</td> <th>  Prob (F-statistic):</th>  <td>  0.00</td>  \n",
       "</tr>\n",
       "<tr>\n",
       "  <th>Time:</th>                 <td>17:38:35</td>     <th>  Log-Likelihood:    </th> <td> -17266.</td> \n",
       "</tr>\n",
       "<tr>\n",
       "  <th>No. Observations:</th>      <td>  1460</td>      <th>  AIC:               </th> <td>3.463e+04</td>\n",
       "</tr>\n",
       "<tr>\n",
       "  <th>Df Residuals:</th>          <td>  1411</td>      <th>  BIC:               </th> <td>3.489e+04</td>\n",
       "</tr>\n",
       "<tr>\n",
       "  <th>Df Model:</th>              <td>    48</td>      <th>                     </th>     <td> </td>    \n",
       "</tr>\n",
       "<tr>\n",
       "  <th>Covariance Type:</th>      <td>nonrobust</td>    <th>                     </th>     <td> </td>    \n",
       "</tr>\n",
       "</table>\n",
       "<table class=\"simpletable\">\n",
       "<tr>\n",
       "                     <td></td>                        <th>coef</th>     <th>std err</th>      <th>t</th>      <th>P>|t|</th>  <th>[0.025</th>    <th>0.975]</th>  \n",
       "</tr>\n",
       "<tr>\n",
       "  <th>const</th>                                   <td> 2.392e+05</td> <td> 2.17e+04</td> <td>   11.004</td> <td> 0.000</td> <td> 1.97e+05</td> <td> 2.82e+05</td>\n",
       "</tr>\n",
       "<tr>\n",
       "  <th>standardized_log_LotArea</th>                <td> 1.052e+04</td> <td> 1556.891</td> <td>    6.757</td> <td> 0.000</td> <td> 7465.076</td> <td> 1.36e+04</td>\n",
       "</tr>\n",
       "<tr>\n",
       "  <th>standardized_log_GrLivArea</th>              <td> 2.323e+04</td> <td> 1294.126</td> <td>   17.948</td> <td> 0.000</td> <td> 2.07e+04</td> <td> 2.58e+04</td>\n",
       "</tr>\n",
       "<tr>\n",
       "  <th>standardized_log_1stFlrSF</th>               <td> 9964.1517</td> <td> 1319.463</td> <td>    7.552</td> <td> 0.000</td> <td> 7375.833</td> <td> 1.26e+04</td>\n",
       "</tr>\n",
       "<tr>\n",
       "  <th>x0_2fmCon</th>                               <td>-1.515e+04</td> <td> 6514.518</td> <td>   -2.326</td> <td> 0.020</td> <td>-2.79e+04</td> <td>-2372.636</td>\n",
       "</tr>\n",
       "<tr>\n",
       "  <th>x0_Duplex</th>                               <td>-2.825e+04</td> <td> 5093.792</td> <td>   -5.547</td> <td> 0.000</td> <td>-3.82e+04</td> <td>-1.83e+04</td>\n",
       "</tr>\n",
       "<tr>\n",
       "  <th>x0_Twnhs</th>                                <td>-2.063e+04</td> <td> 7657.681</td> <td>   -2.695</td> <td> 0.007</td> <td>-3.57e+04</td> <td>-5612.408</td>\n",
       "</tr>\n",
       "<tr>\n",
       "  <th>x0_TwnhsE</th>                               <td>-1.935e+04</td> <td> 4925.338</td> <td>   -3.929</td> <td> 0.000</td> <td> -2.9e+04</td> <td>-9691.144</td>\n",
       "</tr>\n",
       "<tr>\n",
       "  <th>x1_Fa</th>                                   <td>-8.166e+04</td> <td> 7300.546</td> <td>  -11.185</td> <td> 0.000</td> <td> -9.6e+04</td> <td>-6.73e+04</td>\n",
       "</tr>\n",
       "<tr>\n",
       "  <th>x1_Gd</th>                                   <td>-5.348e+04</td> <td> 4162.690</td> <td>  -12.848</td> <td> 0.000</td> <td>-6.16e+04</td> <td>-4.53e+04</td>\n",
       "</tr>\n",
       "<tr>\n",
       "  <th>x1_TA</th>                                   <td>-7.191e+04</td> <td> 4575.487</td> <td>  -15.715</td> <td> 0.000</td> <td>-8.09e+04</td> <td>-6.29e+04</td>\n",
       "</tr>\n",
       "<tr>\n",
       "  <th>x2_CWD</th>                                  <td> 2.442e+04</td> <td> 1.78e+04</td> <td>    1.375</td> <td> 0.169</td> <td>-1.04e+04</td> <td> 5.93e+04</td>\n",
       "</tr>\n",
       "<tr>\n",
       "  <th>x2_Con</th>                                  <td>  6.02e+04</td> <td> 2.51e+04</td> <td>    2.398</td> <td> 0.017</td> <td>  1.1e+04</td> <td> 1.09e+05</td>\n",
       "</tr>\n",
       "<tr>\n",
       "  <th>x2_ConLD</th>                                <td> 1.708e+04</td> <td> 1.28e+04</td> <td>    1.333</td> <td> 0.183</td> <td>-8065.160</td> <td> 4.22e+04</td>\n",
       "</tr>\n",
       "<tr>\n",
       "  <th>x2_ConLI</th>                                <td> 1.425e+04</td> <td> 1.61e+04</td> <td>    0.884</td> <td> 0.377</td> <td>-1.74e+04</td> <td> 4.59e+04</td>\n",
       "</tr>\n",
       "<tr>\n",
       "  <th>x2_ConLw</th>                                <td> 4679.5040</td> <td> 1.62e+04</td> <td>    0.290</td> <td> 0.772</td> <td> -2.7e+04</td> <td> 3.64e+04</td>\n",
       "</tr>\n",
       "<tr>\n",
       "  <th>x2_New</th>                                  <td> 3.074e+04</td> <td> 6509.545</td> <td>    4.722</td> <td> 0.000</td> <td>  1.8e+04</td> <td> 4.35e+04</td>\n",
       "</tr>\n",
       "<tr>\n",
       "  <th>x2_Oth</th>                                  <td> 1.216e+04</td> <td> 2.03e+04</td> <td>    0.600</td> <td> 0.548</td> <td>-2.76e+04</td> <td> 5.19e+04</td>\n",
       "</tr>\n",
       "<tr>\n",
       "  <th>x2_WD</th>                                   <td>   1.2e+04</td> <td> 5391.942</td> <td>    2.226</td> <td> 0.026</td> <td> 1425.495</td> <td> 2.26e+04</td>\n",
       "</tr>\n",
       "<tr>\n",
       "  <th>x3_FV</th>                                   <td>  2.95e+04</td> <td> 1.59e+04</td> <td>    1.851</td> <td> 0.064</td> <td>-1756.730</td> <td> 6.08e+04</td>\n",
       "</tr>\n",
       "<tr>\n",
       "  <th>x3_RH</th>                                   <td> 1.593e+04</td> <td>  1.6e+04</td> <td>    0.993</td> <td> 0.321</td> <td>-1.55e+04</td> <td> 4.74e+04</td>\n",
       "</tr>\n",
       "<tr>\n",
       "  <th>x3_RL</th>                                   <td> 1.867e+04</td> <td> 1.34e+04</td> <td>    1.396</td> <td> 0.163</td> <td>-7555.036</td> <td> 4.49e+04</td>\n",
       "</tr>\n",
       "<tr>\n",
       "  <th>x3_RM</th>                                   <td>  3.33e+04</td> <td> 1.25e+04</td> <td>    2.659</td> <td> 0.008</td> <td> 8731.651</td> <td> 5.79e+04</td>\n",
       "</tr>\n",
       "<tr>\n",
       "  <th>x4_Pave</th>                                 <td>  -50.5835</td> <td> 1.49e+04</td> <td>   -0.003</td> <td> 0.997</td> <td>-2.93e+04</td> <td> 2.91e+04</td>\n",
       "</tr>\n",
       "<tr>\n",
       "  <th>x5_Blueste</th>                              <td> 6271.4312</td> <td> 2.62e+04</td> <td>    0.239</td> <td> 0.811</td> <td>-4.52e+04</td> <td> 5.77e+04</td>\n",
       "</tr>\n",
       "<tr>\n",
       "  <th>x5_BrDale</th>                               <td>-1.756e+04</td> <td> 1.41e+04</td> <td>   -1.246</td> <td> 0.213</td> <td>-4.52e+04</td> <td> 1.01e+04</td>\n",
       "</tr>\n",
       "<tr>\n",
       "  <th>x5_BrkSide</th>                              <td>-5.375e+04</td> <td> 1.13e+04</td> <td>   -4.743</td> <td> 0.000</td> <td> -7.6e+04</td> <td>-3.15e+04</td>\n",
       "</tr>\n",
       "<tr>\n",
       "  <th>x5_ClearCr</th>                              <td>-3.144e+04</td> <td> 1.19e+04</td> <td>   -2.638</td> <td> 0.008</td> <td>-5.48e+04</td> <td>-8059.615</td>\n",
       "</tr>\n",
       "<tr>\n",
       "  <th>x5_CollgCr</th>                              <td>-1.952e+04</td> <td> 9798.619</td> <td>   -1.992</td> <td> 0.047</td> <td>-3.87e+04</td> <td> -300.233</td>\n",
       "</tr>\n",
       "<tr>\n",
       "  <th>x5_Crawfor</th>                              <td>-1.462e+04</td> <td> 1.06e+04</td> <td>   -1.373</td> <td> 0.170</td> <td>-3.55e+04</td> <td> 6265.563</td>\n",
       "</tr>\n",
       "<tr>\n",
       "  <th>x5_Edwards</th>                              <td>-6.054e+04</td> <td> 1.02e+04</td> <td>   -5.917</td> <td> 0.000</td> <td>-8.06e+04</td> <td>-4.05e+04</td>\n",
       "</tr>\n",
       "<tr>\n",
       "  <th>x5_Gilbert</th>                              <td>-2.473e+04</td> <td> 1.04e+04</td> <td>   -2.374</td> <td> 0.018</td> <td>-4.52e+04</td> <td>-4292.170</td>\n",
       "</tr>\n",
       "<tr>\n",
       "  <th>x5_IDOTRR</th>                               <td> -7.23e+04</td> <td> 1.32e+04</td> <td>   -5.475</td> <td> 0.000</td> <td>-9.82e+04</td> <td>-4.64e+04</td>\n",
       "</tr>\n",
       "<tr>\n",
       "  <th>x5_MeadowV</th>                              <td>-2.924e+04</td> <td> 1.31e+04</td> <td>   -2.228</td> <td> 0.026</td> <td> -5.5e+04</td> <td>-3496.768</td>\n",
       "</tr>\n",
       "<tr>\n",
       "  <th>x5_Mitchel</th>                              <td>-3.463e+04</td> <td> 1.08e+04</td> <td>   -3.194</td> <td> 0.001</td> <td>-5.59e+04</td> <td>-1.34e+04</td>\n",
       "</tr>\n",
       "<tr>\n",
       "  <th>x5_NAmes</th>                                <td>-4.671e+04</td> <td> 9929.417</td> <td>   -4.704</td> <td> 0.000</td> <td>-6.62e+04</td> <td>-2.72e+04</td>\n",
       "</tr>\n",
       "<tr>\n",
       "  <th>x5_NPkVill</th>                              <td> 2232.8280</td> <td> 1.43e+04</td> <td>    0.156</td> <td> 0.876</td> <td>-2.58e+04</td> <td> 3.03e+04</td>\n",
       "</tr>\n",
       "<tr>\n",
       "  <th>x5_NWAmes</th>                               <td>-3.566e+04</td> <td> 1.04e+04</td> <td>   -3.425</td> <td> 0.001</td> <td>-5.61e+04</td> <td>-1.52e+04</td>\n",
       "</tr>\n",
       "<tr>\n",
       "  <th>x5_NoRidge</th>                              <td>-1.145e+05</td> <td> 1.74e+04</td> <td>   -6.574</td> <td> 0.000</td> <td>-1.49e+05</td> <td>-8.03e+04</td>\n",
       "</tr>\n",
       "<tr>\n",
       "  <th>x5_NridgHt</th>                              <td> 3.963e+04</td> <td> 9882.310</td> <td>    4.010</td> <td> 0.000</td> <td> 2.02e+04</td> <td>  5.9e+04</td>\n",
       "</tr>\n",
       "<tr>\n",
       "  <th>x5_OldTown</th>                              <td>-7.459e+04</td> <td> 1.15e+04</td> <td>   -6.460</td> <td> 0.000</td> <td>-9.72e+04</td> <td>-5.19e+04</td>\n",
       "</tr>\n",
       "<tr>\n",
       "  <th>x5_SWISU</th>                                <td>-6.114e+04</td> <td> 1.19e+04</td> <td>   -5.128</td> <td> 0.000</td> <td>-8.45e+04</td> <td>-3.78e+04</td>\n",
       "</tr>\n",
       "<tr>\n",
       "  <th>x5_Sawyer</th>                               <td>-4.896e+04</td> <td> 1.05e+04</td> <td>   -4.649</td> <td> 0.000</td> <td>-6.96e+04</td> <td>-2.83e+04</td>\n",
       "</tr>\n",
       "<tr>\n",
       "  <th>x5_SawyerW</th>                              <td>-2.599e+04</td> <td> 1.03e+04</td> <td>   -2.512</td> <td> 0.012</td> <td>-4.63e+04</td> <td>-5692.579</td>\n",
       "</tr>\n",
       "<tr>\n",
       "  <th>x5_Somerst</th>                              <td>-5392.3737</td> <td> 1.19e+04</td> <td>   -0.452</td> <td> 0.651</td> <td>-2.88e+04</td> <td>  1.8e+04</td>\n",
       "</tr>\n",
       "<tr>\n",
       "  <th>x5_StoneBr</th>                              <td> 5.387e+04</td> <td>  1.1e+04</td> <td>    4.910</td> <td> 0.000</td> <td> 3.24e+04</td> <td> 7.54e+04</td>\n",
       "</tr>\n",
       "<tr>\n",
       "  <th>x5_Timber</th>                               <td>-8834.2845</td> <td> 1.11e+04</td> <td>   -0.798</td> <td> 0.425</td> <td>-3.05e+04</td> <td> 1.29e+04</td>\n",
       "</tr>\n",
       "<tr>\n",
       "  <th>x5_Veenker</th>                              <td> 1150.6943</td> <td>  1.4e+04</td> <td>    0.082</td> <td> 0.934</td> <td>-2.62e+04</td> <td> 2.85e+04</td>\n",
       "</tr>\n",
       "<tr>\n",
       "  <th>standardized_log_GrLivArea - x5_NoRidge</th> <td>  1.09e+05</td> <td> 8448.328</td> <td>   12.908</td> <td> 0.000</td> <td> 9.25e+04</td> <td> 1.26e+05</td>\n",
       "</tr>\n",
       "</table>\n",
       "<table class=\"simpletable\">\n",
       "<tr>\n",
       "  <th>Omnibus:</th>       <td>245.483</td> <th>  Durbin-Watson:     </th> <td>   2.007</td>\n",
       "</tr>\n",
       "<tr>\n",
       "  <th>Prob(Omnibus):</th> <td> 0.000</td>  <th>  Jarque-Bera (JB):  </th> <td>3088.808</td>\n",
       "</tr>\n",
       "<tr>\n",
       "  <th>Skew:</th>          <td> 0.360</td>  <th>  Prob(JB):          </th> <td>    0.00</td>\n",
       "</tr>\n",
       "<tr>\n",
       "  <th>Kurtosis:</th>      <td>10.089</td>  <th>  Cond. No.          </th> <td>    109.</td>\n",
       "</tr>\n",
       "</table><br/><br/>Notes:<br/>[1] Standard Errors assume that the covariance matrix of the errors is correctly specified."
      ],
      "text/plain": [
       "<class 'statsmodels.iolib.summary.Summary'>\n",
       "\"\"\"\n",
       "                            OLS Regression Results                            \n",
       "==============================================================================\n",
       "Dep. Variable:              SalePrice   R-squared:                       0.826\n",
       "Model:                            OLS   Adj. R-squared:                  0.820\n",
       "Method:                 Least Squares   F-statistic:                     139.8\n",
       "Date:                Sun, 14 Feb 2021   Prob (F-statistic):               0.00\n",
       "Time:                        17:38:35   Log-Likelihood:                -17266.\n",
       "No. Observations:                1460   AIC:                         3.463e+04\n",
       "Df Residuals:                    1411   BIC:                         3.489e+04\n",
       "Df Model:                          48                                         \n",
       "Covariance Type:            nonrobust                                         \n",
       "===========================================================================================================\n",
       "                                              coef    std err          t      P>|t|      [0.025      0.975]\n",
       "-----------------------------------------------------------------------------------------------------------\n",
       "const                                    2.392e+05   2.17e+04     11.004      0.000    1.97e+05    2.82e+05\n",
       "standardized_log_LotArea                 1.052e+04   1556.891      6.757      0.000    7465.076    1.36e+04\n",
       "standardized_log_GrLivArea               2.323e+04   1294.126     17.948      0.000    2.07e+04    2.58e+04\n",
       "standardized_log_1stFlrSF                9964.1517   1319.463      7.552      0.000    7375.833    1.26e+04\n",
       "x0_2fmCon                               -1.515e+04   6514.518     -2.326      0.020   -2.79e+04   -2372.636\n",
       "x0_Duplex                               -2.825e+04   5093.792     -5.547      0.000   -3.82e+04   -1.83e+04\n",
       "x0_Twnhs                                -2.063e+04   7657.681     -2.695      0.007   -3.57e+04   -5612.408\n",
       "x0_TwnhsE                               -1.935e+04   4925.338     -3.929      0.000    -2.9e+04   -9691.144\n",
       "x1_Fa                                   -8.166e+04   7300.546    -11.185      0.000    -9.6e+04   -6.73e+04\n",
       "x1_Gd                                   -5.348e+04   4162.690    -12.848      0.000   -6.16e+04   -4.53e+04\n",
       "x1_TA                                   -7.191e+04   4575.487    -15.715      0.000   -8.09e+04   -6.29e+04\n",
       "x2_CWD                                   2.442e+04   1.78e+04      1.375      0.169   -1.04e+04    5.93e+04\n",
       "x2_Con                                    6.02e+04   2.51e+04      2.398      0.017     1.1e+04    1.09e+05\n",
       "x2_ConLD                                 1.708e+04   1.28e+04      1.333      0.183   -8065.160    4.22e+04\n",
       "x2_ConLI                                 1.425e+04   1.61e+04      0.884      0.377   -1.74e+04    4.59e+04\n",
       "x2_ConLw                                 4679.5040   1.62e+04      0.290      0.772    -2.7e+04    3.64e+04\n",
       "x2_New                                   3.074e+04   6509.545      4.722      0.000     1.8e+04    4.35e+04\n",
       "x2_Oth                                   1.216e+04   2.03e+04      0.600      0.548   -2.76e+04    5.19e+04\n",
       "x2_WD                                      1.2e+04   5391.942      2.226      0.026    1425.495    2.26e+04\n",
       "x3_FV                                     2.95e+04   1.59e+04      1.851      0.064   -1756.730    6.08e+04\n",
       "x3_RH                                    1.593e+04    1.6e+04      0.993      0.321   -1.55e+04    4.74e+04\n",
       "x3_RL                                    1.867e+04   1.34e+04      1.396      0.163   -7555.036    4.49e+04\n",
       "x3_RM                                     3.33e+04   1.25e+04      2.659      0.008    8731.651    5.79e+04\n",
       "x4_Pave                                   -50.5835   1.49e+04     -0.003      0.997   -2.93e+04    2.91e+04\n",
       "x5_Blueste                               6271.4312   2.62e+04      0.239      0.811   -4.52e+04    5.77e+04\n",
       "x5_BrDale                               -1.756e+04   1.41e+04     -1.246      0.213   -4.52e+04    1.01e+04\n",
       "x5_BrkSide                              -5.375e+04   1.13e+04     -4.743      0.000    -7.6e+04   -3.15e+04\n",
       "x5_ClearCr                              -3.144e+04   1.19e+04     -2.638      0.008   -5.48e+04   -8059.615\n",
       "x5_CollgCr                              -1.952e+04   9798.619     -1.992      0.047   -3.87e+04    -300.233\n",
       "x5_Crawfor                              -1.462e+04   1.06e+04     -1.373      0.170   -3.55e+04    6265.563\n",
       "x5_Edwards                              -6.054e+04   1.02e+04     -5.917      0.000   -8.06e+04   -4.05e+04\n",
       "x5_Gilbert                              -2.473e+04   1.04e+04     -2.374      0.018   -4.52e+04   -4292.170\n",
       "x5_IDOTRR                                -7.23e+04   1.32e+04     -5.475      0.000   -9.82e+04   -4.64e+04\n",
       "x5_MeadowV                              -2.924e+04   1.31e+04     -2.228      0.026    -5.5e+04   -3496.768\n",
       "x5_Mitchel                              -3.463e+04   1.08e+04     -3.194      0.001   -5.59e+04   -1.34e+04\n",
       "x5_NAmes                                -4.671e+04   9929.417     -4.704      0.000   -6.62e+04   -2.72e+04\n",
       "x5_NPkVill                               2232.8280   1.43e+04      0.156      0.876   -2.58e+04    3.03e+04\n",
       "x5_NWAmes                               -3.566e+04   1.04e+04     -3.425      0.001   -5.61e+04   -1.52e+04\n",
       "x5_NoRidge                              -1.145e+05   1.74e+04     -6.574      0.000   -1.49e+05   -8.03e+04\n",
       "x5_NridgHt                               3.963e+04   9882.310      4.010      0.000    2.02e+04     5.9e+04\n",
       "x5_OldTown                              -7.459e+04   1.15e+04     -6.460      0.000   -9.72e+04   -5.19e+04\n",
       "x5_SWISU                                -6.114e+04   1.19e+04     -5.128      0.000   -8.45e+04   -3.78e+04\n",
       "x5_Sawyer                               -4.896e+04   1.05e+04     -4.649      0.000   -6.96e+04   -2.83e+04\n",
       "x5_SawyerW                              -2.599e+04   1.03e+04     -2.512      0.012   -4.63e+04   -5692.579\n",
       "x5_Somerst                              -5392.3737   1.19e+04     -0.452      0.651   -2.88e+04     1.8e+04\n",
       "x5_StoneBr                               5.387e+04    1.1e+04      4.910      0.000    3.24e+04    7.54e+04\n",
       "x5_Timber                               -8834.2845   1.11e+04     -0.798      0.425   -3.05e+04    1.29e+04\n",
       "x5_Veenker                               1150.6943    1.4e+04      0.082      0.934   -2.62e+04    2.85e+04\n",
       "standardized_log_GrLivArea - x5_NoRidge   1.09e+05   8448.328     12.908      0.000    9.25e+04    1.26e+05\n",
       "==============================================================================\n",
       "Omnibus:                      245.483   Durbin-Watson:                   2.007\n",
       "Prob(Omnibus):                  0.000   Jarque-Bera (JB):             3088.808\n",
       "Skew:                           0.360   Prob(JB):                         0.00\n",
       "Kurtosis:                      10.089   Cond. No.                         109.\n",
       "==============================================================================\n",
       "\n",
       "Notes:\n",
       "[1] Standard Errors assume that the covariance matrix of the errors is correctly specified.\n",
       "\"\"\""
      ]
     },
     "execution_count": 16,
     "metadata": {},
     "output_type": "execute_result"
    }
   ],
   "source": [
    "# code here\n",
    "X_interact_sm = sm.add_constant(X_interact)\n",
    "model = sm.OLS(y, X_interact_sm).fit()\n",
    "model.summary()"
   ]
  },
  {
   "cell_type": "markdown",
   "metadata": {},
   "source": [
    "What is your conclusion here?"
   ]
  },
  {
   "cell_type": "code",
   "execution_count": 17,
   "metadata": {},
   "outputs": [],
   "source": [
    "# formulate your conclusion\n",
    "# p-value for the standardized_log_GrLivArea - x5_NoRidge interaction is significant\n",
    "# There seems to be a significant interaction between GrLivArea and the neighborhood NoRidge"
   ]
  },
  {
   "cell_type": "markdown",
   "metadata": {},
   "source": [
    "## Summary"
   ]
  },
  {
   "cell_type": "markdown",
   "metadata": {},
   "source": [
    "You should now understand how to include interaction effects in your model! As you can see, interactions can have a strong impact on linear regression models, and they should always be considered when you are constructing your models."
   ]
  }
 ],
 "metadata": {
  "kernelspec": {
   "display_name": "Python 3",
   "language": "python",
   "name": "python3"
  },
  "language_info": {
   "codemirror_mode": {
    "name": "ipython",
    "version": 3
   },
   "file_extension": ".py",
   "mimetype": "text/x-python",
   "name": "python",
   "nbconvert_exporter": "python",
   "pygments_lexer": "ipython3",
   "version": "3.8.5"
  }
 },
 "nbformat": 4,
 "nbformat_minor": 2
}
